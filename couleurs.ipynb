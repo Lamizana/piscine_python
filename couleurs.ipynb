{
 "cells": [
  {
   "cell_type": "markdown",
   "metadata": {},
   "source": [
    "# Couleur de terminal\n",
    "\n",
    "Definit les différents code couleurs.\n",
    "\n",
    "```\\033[``` lance les escape codes.\n",
    "\n",
    "exemple:\n",
    "\n",
    "```python\n",
    "red = \"\\033[0;31m\"\n",
    "```"
   ]
  },
  {
   "cell_type": "code",
   "execution_count": 4,
   "metadata": {},
   "outputs": [
    {
     "name": "stdout",
     "output_type": "stream",
     "text": [
      "\u001b[0;31mCe texte est en rouge\u001b[0m\n",
      "\u001b[30;47mCe texte est en background blanc\u001b[0m\n",
      "\u001b[30;45mCe texte est en background rouge\u001b[0m\n"
     ]
    }
   ],
   "source": [
    "# Couleur de terminal\n",
    "\n",
    "red = \"\\033[0;31m\"\n",
    "white = \"\\033[0m\"\n",
    "white_bg =\"\\033[30;47m\"\n",
    "nc_bg =\"\\033[30;45m\"\n",
    "\n",
    "\n",
    "print(f\"{red}Ce texte est en rouge{white}\")\n",
    "print(f\"{white_bg}Ce texte est en background blanc{white}\")\n",
    "print(f\"{nc_bg}Ce texte est en background rouge{white}\")\n"
   ]
  }
 ],
 "metadata": {
  "kernelspec": {
   "display_name": "Python 3",
   "language": "python",
   "name": "python3"
  },
  "language_info": {
   "codemirror_mode": {
    "name": "ipython",
    "version": 3
   },
   "file_extension": ".py",
   "mimetype": "text/x-python",
   "name": "python",
   "nbconvert_exporter": "python",
   "pygments_lexer": "ipython3",
   "version": "3.10.11"
  }
 },
 "nbformat": 4,
 "nbformat_minor": 2
}
